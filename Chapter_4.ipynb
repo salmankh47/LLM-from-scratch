{
 "cells": [
  {
   "cell_type": "markdown",
   "id": "92cd8863",
   "metadata": {},
   "source": [
    "### 4.1 Coding LLM architecture"
   ]
  },
  {
   "cell_type": "markdown",
   "id": "364a2210",
   "metadata": {},
   "source": [
    "We specify the configuration of the small GPT-2 model via the following Python dictio-<br>\n",
    "nary, which we will use in the code examples later:"
   ]
  },
  {
   "cell_type": "code",
   "execution_count": 2,
   "id": "0e1ad7af",
   "metadata": {},
   "outputs": [],
   "source": [
    "GPT_CONFIG_124M = {\n",
    "    \"vocab_size\": 50257,    # Vocabulary size\n",
    "    \"context_length\": 1024, # Context length\n",
    "    \"emb_dim\": 768,         # Embedding dimension\n",
    "    \"n_heads\": 12,          # Number of attention heads\n",
    "    \"n_layers\": 12,         # Number of layers\n",
    "    \"drop_rate\": 0.1,       # Dropout rate\n",
    "    \"qkv_bias\": False       # Query-Key-Value bias\n",
    "}"
   ]
  },
  {
   "cell_type": "code",
   "execution_count": 3,
   "id": "d835bbe3",
   "metadata": {},
   "outputs": [
    {
     "data": {
      "text/plain": [
       "{'vocab_size': 50257,\n",
       " 'context_length': 1024,\n",
       " 'emb_dim': 768,\n",
       " 'n_heads': 12,\n",
       " 'n_layers': 12,\n",
       " 'drop_rate': 0.1,\n",
       " 'qkv_bias': False}"
      ]
     },
     "execution_count": 3,
     "metadata": {},
     "output_type": "execute_result"
    }
   ],
   "source": [
    "GPT_CONFIG_124M"
   ]
  },
  {
   "cell_type": "markdown",
   "id": "5f19dd46",
   "metadata": {},
   "source": [
    "#### 4.1 A placeholder for GPT model architecture class"
   ]
  },
  {
   "cell_type": "code",
   "execution_count": 4,
   "id": "5634c4ab",
   "metadata": {},
   "outputs": [],
   "source": [
    "import torch\n",
    "import torch.nn as nn\n",
    "\n",
    "class DummyGPTModel(nn.Module):\n",
    "    def __init__(self, cfg):\n",
    "        super().__init__()\n",
    "        self.tok_emb = nn.Embedding(cfg[\"vocab_size\"], cfg[\"emb_dim\"])\n",
    "        self.pos_emb = nn.Embedding(cfg[\"context_length\"], cfg[\"emb_dim\"])\n",
    "        self.drop_emb = nn.Dropout(cfg[\"drop_rate\"])\n",
    "        self.trf_blocks = nn.Sequential(\n",
    "                            *[DummyTransformerBlock(cfg)\n",
    "                                for _ in range(cfg[\"n_layers\"])]) # Use a placeholder for transformer block\n",
    "        self.final_norm = DummyLayerNorm(cfg[\"emb_dim\"]) # Use a placeholder layernorm\n",
    "        self.out_head = nn.Linear(cfg[\"emb_dim\"], cfg[\"vocab_size\"], bias=False) \n",
    "        \n",
    "    def forward(self, in_idx):\n",
    "        batch_size, seq_len = in_idx.shape\n",
    "        tok_embeds = self.tok_emb(in_idx)\n",
    "        pos_embeds = self.pos_emb(torch.arange(seq_len, device=in_idx.device))\n",
    "        x = tok_embeds + pos_embeds\n",
    "        x = self.drop_emb(x)\n",
    "        x = self.trf_blocks(x)\n",
    "        x = self.final_norm(x)\n",
    "        logits = self.out_head(x)\n",
    "        return logits"
   ]
  },
  {
   "cell_type": "code",
   "execution_count": 5,
   "id": "c51a0c31",
   "metadata": {},
   "outputs": [],
   "source": [
    "class DummyTransformerBlock(nn.Module):\n",
    "    def __init__(self, cfg):\n",
    "        super().__init__()\n",
    "    \n",
    "    def forward(self, x):\n",
    "        return x\n",
    "    \n",
    "class DummyLayerNorm(nn.Module):\n",
    "    def __init__(self, cfg):\n",
    "        super().__init__()\n",
    "        \n",
    "    def forward(self, x):\n",
    "        return x"
   ]
  },
  {
   "cell_type": "code",
   "execution_count": 6,
   "id": "e64b150b",
   "metadata": {},
   "outputs": [
    {
     "name": "stdout",
     "output_type": "stream",
     "text": [
      "tensor([[6109, 3626, 6100,  345],\n",
      "        [6109, 1110, 6622,  257]])\n"
     ]
    }
   ],
   "source": [
    "import tiktoken\n",
    "\n",
    "tokenizer = tiktoken.get_encoding(\"gpt2\")\n",
    "batch = []\n",
    "txt1 = \"Every effort moves you\"\n",
    "txt2 = \"Every day holds a\"\n",
    "batch.append(torch.tensor(tokenizer.encode(txt1)))\n",
    "batch.append(torch.tensor(tokenizer.encode(txt2)))\n",
    "batch = torch.stack(batch, dim=0)\n",
    "print(batch)"
   ]
  },
  {
   "cell_type": "code",
   "execution_count": 7,
   "id": "196caa5b",
   "metadata": {},
   "outputs": [
    {
     "name": "stdout",
     "output_type": "stream",
     "text": [
      "Output shape:  torch.Size([2, 4, 50257])\n",
      "tensor([[[-0.9289,  0.2748, -0.7557,  ..., -1.6070,  0.2702, -0.5888],\n",
      "         [-0.4476,  0.1726,  0.5354,  ..., -0.3932,  1.5285,  0.8557],\n",
      "         [ 0.5680,  1.6053, -0.2155,  ...,  1.1624,  0.1380,  0.7425],\n",
      "         [ 0.0448,  2.4787, -0.8843,  ...,  1.3219, -0.0864, -0.5856]],\n",
      "\n",
      "        [[-1.5474, -0.0542, -1.0571,  ..., -1.8061, -0.4494, -0.6747],\n",
      "         [-0.8422,  0.8243, -0.1098,  ..., -0.1434,  0.2079,  1.2046],\n",
      "         [ 0.1355,  1.1858, -0.1453,  ...,  0.0869, -0.1590,  0.1552],\n",
      "         [ 0.1666, -0.8138,  0.2307,  ...,  2.5035, -0.3055, -0.3083]]],\n",
      "       grad_fn=<UnsafeViewBackward0>)\n"
     ]
    }
   ],
   "source": [
    "torch.manual_seed(123)\n",
    "model = DummyGPTModel(GPT_CONFIG_124M)\n",
    "logits = model(batch)\n",
    "print(\"Output shape: \", logits.shape)\n",
    "print(logits)"
   ]
  },
  {
   "cell_type": "markdown",
   "id": "cf5d1901",
   "metadata": {},
   "source": [
    "#### 4.2 Normalizing activations with layer normalization"
   ]
  },
  {
   "cell_type": "markdown",
   "id": "094c5b6d",
   "metadata": {},
   "source": [
    "Training deep neural networks with many layers can sometimes prove challenging\n",
    "due to problems like vanishing or exploding gradients. These problems lead to unsta-\n",
    "ble training dynamics and make it difficult for the network to effectively adjust its\n",
    "weights, which means the learning process struggles to find a set of parameters\n",
    "(weights) for the neural network that minimizes the loss function. In other words, the\n",
    "network has difficulty learning the underlying patterns in the data to a degree that\n",
    "would allow it to make accurate predictions or decisions."
   ]
  },
  {
   "cell_type": "markdown",
   "id": "4273eb7c",
   "metadata": {},
   "source": [
    "The main idea behind `layer normalization` is to adjust the activa-<br>\n",
    "tions (outputs) of a neural network layer to have a mean of 0 and a variance of 1, also <br>\n",
    "known as unit variance."
   ]
  },
  {
   "cell_type": "code",
   "execution_count": 8,
   "id": "89050ca5",
   "metadata": {},
   "outputs": [
    {
     "name": "stdout",
     "output_type": "stream",
     "text": [
      "tensor([[0.2260, 0.3470, 0.0000, 0.2216, 0.0000, 0.0000],\n",
      "        [0.2133, 0.2394, 0.0000, 0.5198, 0.3297, 0.0000]],\n",
      "       grad_fn=<ReluBackward0>)\n"
     ]
    }
   ],
   "source": [
    "torch.manual_seed(123)\n",
    "batch_example = torch.randn(2, 5)\n",
    "layer = nn.Sequential(nn.Linear(5, 6), nn.ReLU())\n",
    "out = layer(batch_example)\n",
    "print(out)"
   ]
  },
  {
   "cell_type": "code",
   "execution_count": 9,
   "id": "72b5b83c",
   "metadata": {},
   "outputs": [
    {
     "name": "stdout",
     "output_type": "stream",
     "text": [
      "Mean: \n",
      " tensor([[0.1324],\n",
      "        [0.2170]], grad_fn=<MeanBackward1>)\n",
      "Variance: \n",
      " tensor([[0.0231],\n",
      "        [0.0398]], grad_fn=<VarBackward0>)\n"
     ]
    }
   ],
   "source": [
    "mean = out.mean(dim=1, keepdim=True)\n",
    "var = out.var(dim=-1, keepdim=True)\n",
    "print(\"Mean: \\n\", mean)\n",
    "print(\"Variance: \\n\", var)"
   ]
  },
  {
   "cell_type": "code",
   "execution_count": 10,
   "id": "f922e53e",
   "metadata": {},
   "outputs": [
    {
     "name": "stdout",
     "output_type": "stream",
     "text": [
      "Normalized layer output:\n",
      " tensor([[ 0.6159,  1.4126, -0.8719,  0.5872, -0.8719, -0.8719],\n",
      "        [-0.0189,  0.1121, -1.0876,  1.5173,  0.5647, -1.0876]],\n",
      "       grad_fn=<DivBackward0>)\n",
      "Mean:\n",
      " tensor([[9.9341e-09],\n",
      "        [1.9868e-08]], grad_fn=<MeanBackward1>)\n",
      "Variance:\n",
      " tensor([[1.0000],\n",
      "        [1.0000]], grad_fn=<VarBackward0>)\n"
     ]
    }
   ],
   "source": [
    "out_norm = (out - mean) / torch.sqrt(var)\n",
    "mean = out_norm.mean(dim=-1, keepdim=True)\n",
    "var = out_norm.var(dim=-1, keepdim=True)\n",
    "print('Normalized layer output:\\n', out_norm)\n",
    "print('Mean:\\n', mean)\n",
    "print('Variance:\\n', var)"
   ]
  },
  {
   "cell_type": "code",
   "execution_count": 11,
   "id": "89fe76de",
   "metadata": {},
   "outputs": [
    {
     "name": "stdout",
     "output_type": "stream",
     "text": [
      "Mean:\n",
      " tensor([[    0.0000],\n",
      "        [    0.0000]], grad_fn=<MeanBackward1>)\n",
      "Variance:\n",
      " tensor([[1.0000],\n",
      "        [1.0000]], grad_fn=<VarBackward0>)\n"
     ]
    }
   ],
   "source": [
    "torch.set_printoptions(sci_mode=False)\n",
    "print('Mean:\\n', mean)\n",
    "print('Variance:\\n', var)"
   ]
  },
  {
   "cell_type": "markdown",
   "id": "d67938b1",
   "metadata": {},
   "source": [
    "#### A `layer normalization` class"
   ]
  },
  {
   "cell_type": "code",
   "execution_count": 12,
   "id": "c53cf230",
   "metadata": {},
   "outputs": [],
   "source": [
    "class LayerNorm(nn.Module):\n",
    "    def __init__(self, emb_dim):\n",
    "        super().__init__()\n",
    "        self.eps = 1e-5\n",
    "        self.scale = nn.Parameter(torch.ones(emb_dim))\n",
    "        self.shift = nn.Parameter(torch.zeros(emb_dim))\n",
    "        \n",
    "    def forward(self, x):\n",
    "        mean = x.mean(dim=-1, keepdim=True)\n",
    "        var = x.var(dim=-1, keepdim=True, unbiased=False)\n",
    "        norm_x = (x - mean) / torch.sqrt(var + self.eps)\n",
    "        return self.scale * norm_x + self.shift"
   ]
  },
  {
   "cell_type": "code",
   "execution_count": 13,
   "id": "f0d64839",
   "metadata": {},
   "outputs": [
    {
     "name": "stdout",
     "output_type": "stream",
     "text": [
      "Mean: \n",
      " tensor([[    -0.0000],\n",
      "        [     0.0000]], grad_fn=<MeanBackward1>)\n",
      "Var: \n",
      " tensor([[1.0000],\n",
      "        [1.0000]], grad_fn=<VarBackward0>)\n"
     ]
    }
   ],
   "source": [
    "ln = LayerNorm(emb_dim=5)\n",
    "out_ln = ln(batch_example)\n",
    "mean = out_ln.mean(dim=-1, keepdim=True)\n",
    "var = out_ln.var(dim=-1, keepdim=True, unbiased=False)\n",
    "print(\"Mean: \\n\", mean)\n",
    "print(\"Var: \\n\", var)"
   ]
  },
  {
   "cell_type": "markdown",
   "id": "0d5654e9",
   "metadata": {},
   "source": [
    "#### 4.3 Implement `GLEU` activation"
   ]
  },
  {
   "cell_type": "markdown",
   "id": "69a114ed",
   "metadata": {},
   "source": [
    "$GLEU(x) = x \\mbox{ } \\Phi(x)$, where $\\Phi(x)$ is the cumulative distribution function <br>\n",
    "of standard gaussian distribution. In practice its common to implement computationally cheaper option.\n",
    "\\begin{equation}\n",
    "GELU(x) \\approx 0.5 x ( 1 + tanh [ \\sqrt{\\frac{2}{\\pi}} (x + 0.044715 x^{3}) ] )\n",
    "\\end{equation}"
   ]
  },
  {
   "cell_type": "code",
   "execution_count": 14,
   "id": "bd7a307b",
   "metadata": {},
   "outputs": [],
   "source": [
    "class GELU(nn.Module):\n",
    "    def __init__(self):\n",
    "        super().__init__()\n",
    "    \n",
    "    def forward(self, x):\n",
    "        return 0.5 * x * (1 + torch.tanh(\n",
    "            torch.sqrt(torch.tensor(2.0 / torch.pi)) * \n",
    "            (x + 0.44715 * torch.pow(x, 3))\n",
    "        ))"
   ]
  },
  {
   "cell_type": "code",
   "execution_count": 15,
   "id": "4d79a328",
   "metadata": {},
   "outputs": [
    {
     "data": {
      "image/png": "[encoded data removed]",
      "text/plain": [
       "<Figure size 576x216 with 2 Axes>"
      ]
     },
     "metadata": {
      "needs_background": "light"
     },
     "output_type": "display_data"
    }
   ],
   "source": [
    "import matplotlib.pyplot as plt\n",
    "gelu, relu = GELU(), nn.ReLU()\n",
    "\n",
    "x = torch.linspace(-3, 3, 100)\n",
    "y_gelu, y_relu = gelu(x), relu(x)\n",
    "\n",
    "plt.figure(figsize=(8, 3))\n",
    "for i, (y, label) in enumerate(zip([y_gelu, y_relu], [\"GELU\", \"ReLU\"]), 1):\n",
    "    plt.subplot(1, 2, i)\n",
    "    plt.plot(x, y)\n",
    "    plt.title(f\"{label} activation function\")\n",
    "    plt.xlabel(\"x\")\n",
    "    plt.ylabel(f\"{label}(x)\")\n",
    "    plt.grid(True)\n",
    "plt.tight_layout()\n",
    "plt.show()"
   ]
  },
  {
   "cell_type": "markdown",
   "id": "c2824a14",
   "metadata": {},
   "source": [
    "#### A feed-forward neural network module"
   ]
  },
  {
   "cell_type": "code",
   "execution_count": 16,
   "id": "ab2a1241",
   "metadata": {},
   "outputs": [],
   "source": [
    "class FeedForward(nn.Module):\n",
    "    def __init__(self, cfg):\n",
    "        super().__init__()\n",
    "        self.layers = nn.Sequential(\n",
    "            nn.Linear(cfg[\"emb_dim\"], 4 * cfg[\"emb_dim\"]),\n",
    "            GELU(),\n",
    "            nn.Linear(4 * cfg[\"emb_dim\"], cfg[\"emb_dim\"])\n",
    "        )\n",
    "        \n",
    "    def forward(self, x):\n",
    "        return self.layers(x)"
   ]
  },
  {
   "cell_type": "code",
   "execution_count": 17,
   "id": "2d53ccef",
   "metadata": {},
   "outputs": [
    {
     "name": "stdout",
     "output_type": "stream",
     "text": [
      "torch.Size([2, 3, 768])\n"
     ]
    }
   ],
   "source": [
    "ffn = FeedForward(GPT_CONFIG_124M)\n",
    "x = torch.rand(2, 3, 768)\n",
    "out = ffn(x)\n",
    "print(out.shape)"
   ]
  },
  {
   "cell_type": "markdown",
   "id": "4dbb8cef",
   "metadata": {},
   "source": [
    "#### 4.4 Adding shortcut (Residual) connections"
   ]
  },
  {
   "cell_type": "code",
   "execution_count": 18,
   "id": "c67c3bb6",
   "metadata": {},
   "outputs": [],
   "source": [
    "class ExampleDeepNeuralNetwork(nn.Module):\n",
    "    def __init__(self, layer_sizes, use_shortcut):\n",
    "        super().__init__()\n",
    "        self.use_shortcut = use_shortcut\n",
    "        \n",
    "        #implement five layers\n",
    "        self.layers = nn.ModuleList([\n",
    "            nn.Sequential(nn.Linear(layer_sizes[0], layer_sizes[1]),\n",
    "                         GELU()),\n",
    "            nn.Sequential(nn.Linear(layer_sizes[1], layer_sizes[2]),\n",
    "                         GELU()),\n",
    "            nn.Sequential(nn.Linear(layer_sizes[2], layer_sizes[3]), \n",
    "                         GELU()),\n",
    "            nn.Sequential(nn.Linear(layer_sizes[3], layer_sizes[4]), \n",
    "                         GELU()),\n",
    "            nn.Sequential(nn.Linear(layer_sizes[4], layer_sizes[5]),\n",
    "                         GELU())\n",
    "        ])\n",
    "    \n",
    "    def forward(self, x):\n",
    "        for layer in self.layers:\n",
    "            layer_output = layer(x)\n",
    "            if self.use_shortcut and x.shape == layer_output.shape:\n",
    "                x = x + layer_output\n",
    "            else:\n",
    "                x = layer_output\n",
    "        return x"
   ]
  },
  {
   "cell_type": "code",
   "execution_count": 19,
   "id": "3207eb0f",
   "metadata": {},
   "outputs": [],
   "source": [
    "layer_sizes = [3, 3, 3, 3, 3, 1]\n",
    "sample_input = torch.tensor([[1., 0., -1.]])\n",
    "torch.manual_seed(123)\n",
    "model_without_shortcut = ExampleDeepNeuralNetwork(layer_sizes, use_shortcut=False)"
   ]
  },
  {
   "cell_type": "code",
   "execution_count": 20,
   "id": "b6498573",
   "metadata": {},
   "outputs": [],
   "source": [
    "output = model_without_shortcut(sample_input)"
   ]
  },
  {
   "cell_type": "code",
   "execution_count": 21,
   "id": "833718f5",
   "metadata": {},
   "outputs": [],
   "source": [
    "def print_gradients(model, x):\n",
    "    output = model(x)\n",
    "    target = torch.tensor([[0.]])\n",
    "    \n",
    "    loss = nn.MSELoss()\n",
    "    loss = loss(output, target)\n",
    "    loss.backward()\n",
    "    \n",
    "    for name, param in model.named_parameters():\n",
    "        if 'weight' in name:\n",
    "            print(f\"{name} has gradient mean of {param.grad.abs().mean().item()}\")"
   ]
  },
  {
   "cell_type": "code",
   "execution_count": 22,
   "id": "c869f326",
   "metadata": {},
   "outputs": [
    {
     "name": "stdout",
     "output_type": "stream",
     "text": [
      "layers.0.0.weight has gradient mean of 0.00020471324387472123\n",
      "layers.1.0.weight has gradient mean of 0.0001231795467901975\n",
      "layers.2.0.weight has gradient mean of 0.0007344745099544525\n",
      "layers.3.0.weight has gradient mean of 0.0013871212722733617\n",
      "layers.4.0.weight has gradient mean of 0.005026495084166527\n"
     ]
    }
   ],
   "source": [
    "print_gradients(model_without_shortcut, sample_input)"
   ]
  },
  {
   "cell_type": "code",
   "execution_count": 23,
   "id": "f63a1751",
   "metadata": {},
   "outputs": [
    {
     "name": "stdout",
     "output_type": "stream",
     "text": [
      "layers.0.0.weight has gradient mean of 0.29920274019241333\n",
      "layers.1.0.weight has gradient mean of 0.2749510407447815\n",
      "layers.2.0.weight has gradient mean of 0.45466116070747375\n",
      "layers.3.0.weight has gradient mean of 0.362958699464798\n",
      "layers.4.0.weight has gradient mean of 1.763088583946228\n"
     ]
    }
   ],
   "source": [
    "torch.manual_seed(123)\n",
    "model_with_shortcut = ExampleDeepNeuralNetwork(\n",
    "    layer_sizes, use_shortcut=True)\n",
    "print_gradients(model_with_shortcut, sample_input)"
   ]
  },
  {
   "cell_type": "code",
   "execution_count": 24,
   "id": "cadb5577",
   "metadata": {},
   "outputs": [
    {
     "name": "stdout",
     "output_type": "stream",
     "text": [
      "tensor([0.9544, 1.4950, 1.4754, 0.8434, 0.6983, 1.0865])\n",
      "Attention weights:  tensor([0.1456, 0.2281, 0.2251, 0.1287, 0.1066, 0.1658])\n",
      "Sum:  tensor(1.)\n",
      "Attention weights:  tensor([0.1387, 0.2381, 0.2335, 0.1241, 0.1073, 0.1583])\n",
      "Sum:  tensor(1.0000)\n",
      "tensor([0.4416, 0.6508, 0.5687])\n",
      "tensor([[0.9995, 0.9544, 0.9422, 0.4753, 0.4561, 0.6310],\n",
      "        [0.9544, 1.4950, 1.4754, 0.8434, 0.6983, 1.0865],\n",
      "        [0.9422, 1.4754, 1.4570, 0.8296, 0.7069, 1.0605],\n",
      "        [0.4753, 0.8434, 0.8296, 0.4937, 0.3416, 0.6565],\n",
      "        [0.4561, 0.6983, 0.7069, 0.3416, 0.6605, 0.2855],\n",
      "        [0.6310, 1.0865, 1.0605, 0.6565, 0.2855, 0.9450]])\n",
      "Attn scores:\n",
      " tensor([[0.9995, 0.9544, 0.9422, 0.4753, 0.4561, 0.6310],\n",
      "        [0.9544, 1.4950, 1.4754, 0.8434, 0.6983, 1.0865],\n",
      "        [0.9422, 1.4754, 1.4570, 0.8296, 0.7069, 1.0605],\n",
      "        [0.4753, 0.8434, 0.8296, 0.4937, 0.3416, 0.6565],\n",
      "        [0.4561, 0.6983, 0.7069, 0.3416, 0.6605, 0.2855],\n",
      "        [0.6310, 1.0865, 1.0605, 0.6565, 0.2855, 0.9450]]) \n",
      "Attn weights:\n",
      "  tensor([[0.2099, 0.2006, 0.1982, 0.1243, 0.1219, 0.1452],\n",
      "        [0.1387, 0.2381, 0.2335, 0.1241, 0.1073, 0.1583],\n",
      "        [0.1391, 0.2371, 0.2328, 0.1243, 0.1100, 0.1566],\n",
      "        [0.1436, 0.2075, 0.2047, 0.1463, 0.1257, 0.1722],\n",
      "        [0.1534, 0.1954, 0.1971, 0.1368, 0.1881, 0.1293],\n",
      "        [0.1386, 0.2185, 0.2129, 0.1422, 0.0981, 0.1897]])\n",
      "tensor([[0.2099, 0.2006, 0.1982, 0.1243, 0.1219, 0.1452],\n",
      "        [0.1387, 0.2381, 0.2335, 0.1241, 0.1073, 0.1583],\n",
      "        [0.1391, 0.2371, 0.2328, 0.1243, 0.1100, 0.1566],\n",
      "        [0.1436, 0.2075, 0.2047, 0.1463, 0.1257, 0.1722],\n",
      "        [0.1534, 0.1954, 0.1971, 0.1368, 0.1881, 0.1293],\n",
      "        [0.1386, 0.2185, 0.2129, 0.1422, 0.0981, 0.1897]])\n",
      "tensor([[0.4420, 0.5919, 0.5791],\n",
      "        [0.4416, 0.6508, 0.5687],\n",
      "        [0.4428, 0.6489, 0.5675],\n",
      "        [0.4301, 0.6288, 0.5514],\n",
      "        [0.4671, 0.5884, 0.5266],\n",
      "        [0.4174, 0.6497, 0.5649]])\n",
      "previous context vector:  tensor([0.4416, 0.6508, 0.5687])\n",
      "tensor([0.4306, 1.4551])\n",
      "keys:  tensor([[0.3669, 0.7646],\n",
      "        [0.4433, 1.1419],\n",
      "        [0.4361, 1.1156],\n",
      "        [0.2408, 0.6706],\n",
      "        [0.1809, 0.3220],\n",
      "        [0.3275, 0.9642]])\n",
      "values:  tensor([[0.1855, 0.8812],\n",
      "        [0.3951, 1.0037],\n",
      "        [0.3879, 0.9831],\n",
      "        [0.2393, 0.5493],\n",
      "        [0.1460, 0.3306],\n",
      "        [0.3221, 0.7863]])\n",
      "tensor(1.8524)\n",
      "tensor([1.2705, 1.8524, 1.8111, 1.0795, 0.5464, 1.5440])\n",
      "tensor([0.1501, 0.2265, 0.2200, 0.1312, 0.0900, 0.1822])\n",
      "tensor([0.3059, 0.8210])\n",
      "tensor([[0.2993, 0.8052],\n",
      "        [0.3059, 0.8210],\n",
      "        [0.3056, 0.8203],\n",
      "        [0.2945, 0.7936],\n",
      "        [0.2922, 0.7885],\n",
      "        [0.2988, 0.8039]], grad_fn=<MmBackward0>)\n",
      "tensor([[-0.5332, -0.1044],\n",
      "        [-0.5318, -0.1073],\n",
      "        [-0.5318, -0.1072],\n",
      "        [-0.5291, -0.1069],\n",
      "        [-0.5305, -0.1058],\n",
      "        [-0.5293, -0.1073]], grad_fn=<MmBackward0>)\n",
      "W_query Parameter containing:\n",
      "tensor([[0.2961, 0.5166],\n",
      "        [0.2517, 0.6886],\n",
      "        [0.0740, 0.8665]], requires_grad=True)\n",
      "W_key Parameter containing:\n",
      "tensor([[0.1366, 0.1025],\n",
      "        [0.1841, 0.7264],\n",
      "        [0.3153, 0.6871]], requires_grad=True)\n",
      "W_value Parameter containing:\n",
      "tensor([[0.0756, 0.1966],\n",
      "        [0.3164, 0.4017],\n",
      "        [0.1186, 0.8274]], requires_grad=True)\n",
      "W_query.weight Parameter containing:\n",
      "tensor([[0.2961, 0.2517, 0.0740],\n",
      "        [0.5166, 0.6886, 0.8665]], requires_grad=True)\n",
      "W_key.weight Parameter containing:\n",
      "tensor([[0.1366, 0.1841, 0.3153],\n",
      "        [0.1025, 0.7264, 0.6871]], requires_grad=True)\n",
      "W_value.weight Parameter containing:\n",
      "tensor([[0.0756, 0.3164, 0.1186],\n",
      "        [0.1966, 0.4017, 0.8274]], requires_grad=True)\n",
      "tensor([[0.1552, 0.2106, 0.2061, 0.1414, 0.1068, 0.1800],\n",
      "        [0.1501, 0.2265, 0.2200, 0.1312, 0.0900, 0.1822],\n",
      "        [0.1505, 0.2258, 0.2194, 0.1316, 0.0908, 0.1820],\n",
      "        [0.1592, 0.1995, 0.1963, 0.1478, 0.1202, 0.1770],\n",
      "        [0.1612, 0.1947, 0.1921, 0.1503, 0.1265, 0.1752],\n",
      "        [0.1558, 0.2093, 0.2050, 0.1420, 0.1084, 0.1795]],\n",
      "       grad_fn=<SoftmaxBackward0>)\n",
      "tensor([[1., 0., 0., 0., 0., 0.],\n",
      "        [1., 1., 0., 0., 0., 0.],\n",
      "        [1., 1., 1., 0., 0., 0.],\n",
      "        [1., 1., 1., 1., 0., 0.],\n",
      "        [1., 1., 1., 1., 1., 0.],\n",
      "        [1., 1., 1., 1., 1., 1.]])\n",
      "tensor([[0.1552, 0.0000, 0.0000, 0.0000, 0.0000, 0.0000],\n",
      "        [0.1501, 0.2265, 0.0000, 0.0000, 0.0000, 0.0000],\n",
      "        [0.1505, 0.2258, 0.2194, 0.0000, 0.0000, 0.0000],\n",
      "        [0.1592, 0.1995, 0.1963, 0.1478, 0.0000, 0.0000],\n",
      "        [0.1612, 0.1947, 0.1921, 0.1503, 0.1265, 0.0000],\n",
      "        [0.1558, 0.2093, 0.2050, 0.1420, 0.1084, 0.1795]],\n",
      "       grad_fn=<MulBackward0>)\n",
      "tensor([[1.0000, 0.0000, 0.0000, 0.0000, 0.0000, 0.0000],\n",
      "        [0.3986, 0.6014, 0.0000, 0.0000, 0.0000, 0.0000],\n",
      "        [0.2526, 0.3791, 0.3683, 0.0000, 0.0000, 0.0000],\n",
      "        [0.2265, 0.2839, 0.2794, 0.2103, 0.0000, 0.0000],\n",
      "        [0.1954, 0.2361, 0.2329, 0.1823, 0.1533, 0.0000],\n",
      "        [0.1558, 0.2093, 0.2050, 0.1420, 0.1084, 0.1795]],\n",
      "       grad_fn=<DivBackward0>)\n",
      "tensor([[0.9231,   -inf,   -inf,   -inf,   -inf,   -inf],\n",
      "        [1.2705, 1.8524,   -inf,   -inf,   -inf,   -inf],\n",
      "        [1.2544, 1.8284, 1.7877,   -inf,   -inf,   -inf],\n",
      "        [0.6973, 1.0167, 0.9941, 0.5925,   -inf,   -inf],\n",
      "        [0.6052, 0.8730, 0.8538, 0.5069, 0.2627,   -inf],\n",
      "        [0.8995, 1.3165, 1.2871, 0.7682, 0.3856, 1.0996]],\n",
      "       grad_fn=<MaskedFillBackward0>)\n",
      "tensor([[1.0000, 0.0000, 0.0000, 0.0000, 0.0000, 0.0000],\n",
      "        [0.3986, 0.6014, 0.0000, 0.0000, 0.0000, 0.0000],\n",
      "        [0.2526, 0.3791, 0.3683, 0.0000, 0.0000, 0.0000],\n",
      "        [0.2265, 0.2839, 0.2794, 0.2103, 0.0000, 0.0000],\n",
      "        [0.1954, 0.2361, 0.2329, 0.1823, 0.1533, 0.0000],\n",
      "        [0.1558, 0.2093, 0.2050, 0.1420, 0.1084, 0.1795]],\n",
      "       grad_fn=<SoftmaxBackward0>)\n",
      "tensor([[2., 2., 2., 2., 2., 2.],\n",
      "        [0., 2., 0., 0., 0., 0.],\n",
      "        [0., 0., 2., 0., 2., 0.],\n",
      "        [2., 2., 0., 0., 0., 2.],\n",
      "        [2., 0., 0., 0., 0., 2.],\n",
      "        [0., 2., 0., 0., 0., 0.]])\n",
      "tensor([[2.0000, 0.0000, 0.0000, 0.0000, 0.0000, 0.0000],\n",
      "        [0.0000, 1.2029, 0.0000, 0.0000, 0.0000, 0.0000],\n",
      "        [0.0000, 0.0000, 0.7366, 0.0000, 0.0000, 0.0000],\n",
      "        [0.4529, 0.5677, 0.0000, 0.0000, 0.0000, 0.0000],\n",
      "        [0.3908, 0.0000, 0.0000, 0.0000, 0.0000, 0.0000],\n",
      "        [0.0000, 0.4186, 0.0000, 0.0000, 0.0000, 0.0000]],\n",
      "       grad_fn=<MulBackward0>)\n",
      "torch.Size([2, 6, 3])\n",
      "context_vecs.shape: torch.Size([2, 6, 2])\n",
      "tensor([[[-0.4519,  0.2216,  0.4772,  0.1063],\n",
      "         [-0.5874,  0.0058,  0.5891,  0.3257],\n",
      "         [-0.6300, -0.0632,  0.6202,  0.3860],\n",
      "         [-0.5675, -0.0843,  0.5478,  0.3589],\n",
      "         [-0.5519, -0.0972,  0.5315,  0.3418],\n",
      "         [-0.5293, -0.1073,  0.5072,  0.3485]],\n",
      "\n",
      "        [[-0.4519,  0.2216,  0.4772,  0.1063],\n",
      "         [-0.5874,  0.0058,  0.5891,  0.3257],\n",
      "         [-0.6300, -0.0632,  0.6202,  0.3860],\n",
      "         [-0.5675, -0.0843,  0.5478,  0.3589],\n",
      "         [-0.5519, -0.0972,  0.5315,  0.3418],\n",
      "         [-0.5293, -0.1073,  0.5072,  0.3485]]], grad_fn=<CatBackward0>)\n",
      "context_vecs.shape:  torch.Size([2, 6, 4])\n",
      "tensor([[[[1.3208, 1.1631, 1.2879],\n",
      "          [1.1631, 2.2150, 1.8424],\n",
      "          [1.2879, 1.8424, 2.0402]],\n",
      "\n",
      "         [[0.4391, 0.7003, 0.5903],\n",
      "          [0.7003, 1.3737, 1.0620],\n",
      "          [0.5903, 1.0620, 0.9912]]]])\n",
      "First head:\n",
      " tensor([[1.3208, 1.1631, 1.2879],\n",
      "        [1.1631, 2.2150, 1.8424],\n",
      "        [1.2879, 1.8424, 2.0402]])\n",
      "Second head:\n",
      " tensor([[0.4391, 0.7003, 0.5903],\n",
      "        [0.7003, 1.3737, 1.0620],\n",
      "        [0.5903, 1.0620, 0.9912]])\n"
     ]
    }
   ],
   "source": [
    "from ipynb.fs.full.Chapter_3 import MultiHeadAttention"
   ]
  },
  {
   "cell_type": "code",
   "execution_count": 25,
   "id": "7bdf8275",
   "metadata": {},
   "outputs": [],
   "source": [
    "class TransformerBlock(nn.Module):\n",
    "    def __init__(self, cfg):\n",
    "        super().__init__()\n",
    "        self.att = MultiHeadAttention(\n",
    "            d_in=cfg['emb_dim'],\n",
    "            d_out=cfg['emb_dim'],\n",
    "            context_length=cfg['context_length'],\n",
    "            num_heads=cfg['n_heads'],\n",
    "            dropout=cfg['drop_rate'],\n",
    "            qkv_bias=cfg['qkv_bias']\n",
    "        )\n",
    "        self.ff = FeedForward(cfg)\n",
    "        self.norm1 = LayerNorm(cfg[\"emb_dim\"])\n",
    "        self.norm2 = LayerNorm(cfg[\"emb_dim\"])\n",
    "        self.drop_shortcut = nn.Dropout(cfg[\"drop_rate\"])\n",
    "        \n",
    "    \n",
    "    def forward(self, x):\n",
    "        \n",
    "        # Pre-layerNorm is better than post-layernorm\n",
    "        \n",
    "        shortcut = x\n",
    "        x = self.norm1(x)\n",
    "        x = self.att(x)\n",
    "        x = self.drop_shortcut(x)\n",
    "        x = x + shortcut\n",
    "        \n",
    "        shortcut = x\n",
    "        x = self.norm2(x)\n",
    "        x = self.ff(x)\n",
    "        x = self.drop_shortcut(x)\n",
    "        x = x + shortcut\n",
    "        return x\n",
    "        "
   ]
  },
  {
   "cell_type": "code",
   "execution_count": 26,
   "id": "fe22e69d",
   "metadata": {},
   "outputs": [
    {
     "name": "stdout",
     "output_type": "stream",
     "text": [
      "Input shape:  torch.Size([2, 4, 768])\n",
      "Output shape:  torch.Size([2, 4, 768])\n"
     ]
    }
   ],
   "source": [
    "torch.manual_seed(123)\n",
    "x = torch.rand(2, 4, 768)\n",
    "block = TransformerBlock(GPT_CONFIG_124M)\n",
    "output = block(x)\n",
    "\n",
    "print(\"Input shape: \", x.shape)\n",
    "print(\"Output shape: \", output.shape)"
   ]
  },
  {
   "cell_type": "markdown",
   "id": "581be068",
   "metadata": {},
   "source": [
    "### The GPT model architecture implementation"
   ]
  },
  {
   "cell_type": "code",
   "execution_count": 27,
   "id": "801826c3",
   "metadata": {},
   "outputs": [],
   "source": [
    "class GPTModel(nn.Module):\n",
    "    def __init__(self, cfg):\n",
    "        super().__init__()\n",
    "        self.tok_emb = nn.Embedding(cfg[\"vocab_size\"], cfg[\"emb_dim\"])\n",
    "        self.pos_emb = nn.Embedding(cfg[\"context_length\"], cfg[\"emb_dim\"])\n",
    "        self.drop_emb = nn.Dropout(cfg[\"drop_rate\"])\n",
    "        \n",
    "        self.trf_blocks = nn.Sequential(\n",
    "            *[TransformerBlock(cfg) for _ in range(cfg[\"n_layers\"])]\n",
    "        )\n",
    "        self.final_norm = LayerNorm(cfg[\"emb_dim\"])\n",
    "        self.out_head = nn.Linear(\n",
    "            cfg[\"emb_dim\"], cfg[\"vocab_size\"], bias=False\n",
    "        )\n",
    "    \n",
    "    def forward(self, in_idx):\n",
    "        batch_size, seq_len = in_idx.shape\n",
    "        tok_embeds = self.tok_emb(in_idx)\n",
    "        \n",
    "        pos_embeds = self.pos_emb(\n",
    "            torch.arange(seq_len, device=in_idx.device)\n",
    "        )\n",
    "        x = tok_embeds + pos_embeds\n",
    "        x = self.drop_emb(x)\n",
    "        x = self.trf_blocks(x)\n",
    "        x = self.final_norm(x)\n",
    "        logits = self.out_head(x)\n",
    "        return logits"
   ]
  },
  {
   "cell_type": "markdown",
   "id": "e7607edc",
   "metadata": {},
   "source": [
    "Let’s now initialize the 124-million-parameter GPT model using the `GPT_CONFIG_\n",
    "124M` dictionary we pass into the `cfg` parameter and feed it with the batch text input\n",
    "we previously created:"
   ]
  },
  {
   "cell_type": "code",
   "execution_count": 28,
   "id": "eeb840b5",
   "metadata": {},
   "outputs": [],
   "source": [
    "torch.manual_seed(123)\n",
    "model = GPTModel(GPT_CONFIG_124M)"
   ]
  },
  {
   "cell_type": "code",
   "execution_count": 29,
   "id": "7e570c4a",
   "metadata": {},
   "outputs": [
    {
     "name": "stdout",
     "output_type": "stream",
     "text": [
      "Input batch:\n",
      " tensor([[6109, 3626, 6100,  345],\n",
      "        [6109, 1110, 6622,  257]])\n",
      "\n",
      "Output shape:  torch.Size([2, 4, 50257])\n",
      "torch.Size([4, 50257])\n"
     ]
    }
   ],
   "source": [
    "out = model(batch)\n",
    "print(\"Input batch:\\n\", batch)\n",
    "print(\"\\nOutput shape: \", out.shape)\n",
    "print(out[0].shape)"
   ]
  },
  {
   "cell_type": "code",
   "execution_count": 30,
   "id": "a2ba999b",
   "metadata": {},
   "outputs": [
    {
     "name": "stdout",
     "output_type": "stream",
     "text": [
      "Total number of parameters: 163,009,536\n"
     ]
    }
   ],
   "source": [
    "total_params = sum(p.numel() for p in model.parameters())\n",
    "print(f'Total number of parameters: {total_params:,}')"
   ]
  },
  {
   "cell_type": "code",
   "execution_count": 31,
   "id": "a7f609dd",
   "metadata": {},
   "outputs": [
    {
     "name": "stdout",
     "output_type": "stream",
     "text": [
      "Token embedding layer shape:  torch.Size([50257, 768])\n",
      "Output layer shape:  torch.Size([50257, 768])\n"
     ]
    }
   ],
   "source": [
    "print(\"Token embedding layer shape: \", model.tok_emb.weight.shape)\n",
    "print(\"Output layer shape: \", model.out_head.weight.shape)"
   ]
  },
  {
   "cell_type": "code",
   "execution_count": 32,
   "id": "0a663ab1",
   "metadata": {},
   "outputs": [
    {
     "name": "stdout",
     "output_type": "stream",
     "text": [
      "Number of trainable parameters considering weight tying: 124,412,160\n"
     ]
    }
   ],
   "source": [
    "total_params_gpt2 = (\n",
    "    total_params - sum(p.numel()\n",
    "                      for p in model.out_head.parameters())\n",
    ")\n",
    "print(f\"Number of trainable parameters \"\n",
    "      f\"considering weight tying: {total_params_gpt2:,}\")"
   ]
  },
  {
   "cell_type": "code",
   "execution_count": 33,
   "id": "4a6a7263",
   "metadata": {},
   "outputs": [
    {
     "data": {
      "text/plain": [
       "85026816"
      ]
     },
     "execution_count": 33,
     "metadata": {},
     "output_type": "execute_result"
    }
   ],
   "source": [
    "sum(p.numel() for p in model.trf_blocks.parameters())"
   ]
  },
  {
   "cell_type": "code",
   "execution_count": 34,
   "id": "9a836b66",
   "metadata": {},
   "outputs": [
    {
     "name": "stdout",
     "output_type": "stream",
     "text": [
      "Total size of the model: 621.83 MB\n"
     ]
    }
   ],
   "source": [
    "total_size_bytes = total_params * 4\n",
    "total_size_mb = total_size_bytes / (1024 * 1024)\n",
    "print(f\"Total size of the model: {total_size_mb:.2f} MB\")"
   ]
  },
  {
   "cell_type": "markdown",
   "id": "855766a1",
   "metadata": {},
   "source": [
    "## 4.7 Generating text"
   ]
  },
  {
   "cell_type": "code",
   "execution_count": 35,
   "id": "ec73e062",
   "metadata": {},
   "outputs": [],
   "source": [
    "def generate_text_simple(model, idx, max_new_tokens, context_size):\n",
    "    for _ in range(max_new_tokens):\n",
    "        idx_cond = idx[:, -context_size:]\n",
    "        with torch.no_grad():\n",
    "            logits = model(idx_cond)\n",
    "            \n",
    "        logits = logits[:, -1, :]\n",
    "        probas = torch.softmax(logits, dim=-1)\n",
    "        idx_next = torch.argmax(probas, dim=-1, keepdim=True)\n",
    "        idx = torch.cat((idx, idx_next), dim=1)\n",
    "        \n",
    "    return idx"
   ]
  },
  {
   "cell_type": "code",
   "execution_count": 36,
   "id": "38137e0a",
   "metadata": {},
   "outputs": [
    {
     "name": "stdout",
     "output_type": "stream",
     "text": [
      "encoded: [15496, 11, 314, 716]\n"
     ]
    }
   ],
   "source": [
    "start_context = \"Hello, I am\"\n",
    "encoded = tokenizer.encode(start_context)\n",
    "print('encoded:', encoded)"
   ]
  },
  {
   "cell_type": "code",
   "execution_count": 74,
   "id": "001a8a32",
   "metadata": {},
   "outputs": [],
   "source": [
    "encoded_tensor = torch.tensor(encoded).unsqueeze(0)"
   ]
  },
  {
   "cell_type": "code",
   "execution_count": 75,
   "id": "45d6d53d",
   "metadata": {},
   "outputs": [
    {
     "name": "stdout",
     "output_type": "stream",
     "text": [
      "encoded_tensor.shape: torch.Size([1, 4])\n"
     ]
    }
   ],
   "source": [
    "print('encoded_tensor.shape:', encoded_tensor.shape)"
   ]
  },
  {
   "cell_type": "code",
   "execution_count": 120,
   "id": "4e20314a",
   "metadata": {},
   "outputs": [],
   "source": [
    "model.eval()\n",
    "out = generate_text_simple(model, encoded_tensor, 6, GPT_CONFIG_124M[\"context_length\"])"
   ]
  },
  {
   "cell_type": "code",
   "execution_count": 121,
   "id": "b190e0cf",
   "metadata": {},
   "outputs": [
    {
     "data": {
      "text/plain": [
       "tensor([[15496,    11,   314,   716, 27018, 24086, 47843, 30961, 29739,   554]])"
      ]
     },
     "execution_count": 121,
     "metadata": {},
     "output_type": "execute_result"
    }
   ],
   "source": [
    "out"
   ]
  },
  {
   "cell_type": "code",
   "execution_count": 131,
   "id": "73a9e942",
   "metadata": {},
   "outputs": [],
   "source": [
    "k = model.tok_emb(encoded_tensor)"
   ]
  },
  {
   "cell_type": "code",
   "execution_count": 124,
   "id": "f36fa404",
   "metadata": {},
   "outputs": [],
   "source": [
    "output = model.out_head(k)"
   ]
  },
  {
   "cell_type": "code",
   "execution_count": 130,
   "id": "240385ab",
   "metadata": {},
   "outputs": [
    {
     "data": {
      "text/plain": [
       "' repairing'"
      ]
     },
     "execution_count": 130,
     "metadata": {},
     "output_type": "execute_result"
    }
   ],
   "source": [
    "tokenizer.decode(k.squeeze(0).tolist())"
   ]
  },
  {
   "cell_type": "code",
   "execution_count": 89,
   "id": "61f67421",
   "metadata": {},
   "outputs": [],
   "source": [
    "output = model(encoded_tensor[:, -GPT_CONFIG_124M[\"context_length\"]:])"
   ]
  },
  {
   "cell_type": "code",
   "execution_count": 125,
   "id": "f9f216f2",
   "metadata": {},
   "outputs": [],
   "source": [
    "logits = output[:, -1, :]"
   ]
  },
  {
   "cell_type": "code",
   "execution_count": 126,
   "id": "2e2f5c15",
   "metadata": {},
   "outputs": [],
   "source": [
    "probs = torch.softmax(logits, dim=1)"
   ]
  },
  {
   "cell_type": "code",
   "execution_count": 127,
   "id": "3e42ac0b",
   "metadata": {},
   "outputs": [
    {
     "data": {
      "text/plain": [
       "torch.Size([1, 50257])"
      ]
     },
     "execution_count": 127,
     "metadata": {},
     "output_type": "execute_result"
    }
   ],
   "source": [
    "probs.shape"
   ]
  },
  {
   "cell_type": "code",
   "execution_count": 129,
   "id": "7df7829c",
   "metadata": {},
   "outputs": [],
   "source": [
    "k = torch.argmax(probs, dim=-1, keepdim=True)"
   ]
  },
  {
   "cell_type": "code",
   "execution_count": null,
   "id": "3b0d2250",
   "metadata": {},
   "outputs": [],
   "source": []
  },
  {
   "cell_type": "code",
   "execution_count": 84,
   "id": "73213062",
   "metadata": {},
   "outputs": [
    {
     "name": "stdout",
     "output_type": "stream",
     "text": [
      "output:  tensor([[[ 0.1570,  0.3790, -0.1052,  ...,  1.2618,  0.3342,  0.7445],\n",
      "         [ 0.0330,  0.0517,  0.2529,  ...,  0.4698,  0.1187,  0.9938],\n",
      "         [ 0.5532,  0.5810, -0.0384,  ...,  1.1717,  0.3839,  0.7470],\n",
      "         [ 0.1784,  0.7126,  0.7358,  ...,  0.3408,  0.5483,  0.9467]],\n",
      "\n",
      "        [[ 0.1873,  1.1682,  0.5817,  ...,  0.1806,  0.0093, -0.5668],\n",
      "         [-0.3046,  0.6550,  0.1793,  ...,  0.3088,  0.4487, -0.0436],\n",
      "         [ 0.9321,  0.4172,  0.2954,  ...,  0.3836,  0.7352, -0.1030],\n",
      "         [ 0.5907,  0.5709,  0.3323,  ...,  1.3798,  1.2681,  0.3915]]],\n",
      "       grad_fn=<AddBackward0>)\n",
      "output length:  10\n"
     ]
    }
   ],
   "source": [
    "print(\"output: \", output)\n",
    "print(\"output length: \", len(out[0]))"
   ]
  },
  {
   "cell_type": "code",
   "execution_count": null,
   "id": "2718f320",
   "metadata": {},
   "outputs": [],
   "source": []
  }
 ],
 "metadata": {
  "kernelspec": {
   "display_name": "Python 3 (ipykernel)",
   "language": "python",
   "name": "python3"
  },
  "language_info": {
   "codemirror_mode": {
    "name": "ipython",
    "version": 3
   },
   "file_extension": ".py",
   "mimetype": "text/x-python",
   "name": "python",
   "nbconvert_exporter": "python",
   "pygments_lexer": "ipython3",
   "version": "3.8.13"
  }
 },
 "nbformat": 4,
 "nbformat_minor": 5
}
